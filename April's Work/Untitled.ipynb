{
 "cells": [
  {
   "cell_type": "code",
   "execution_count": 1,
   "id": "8cf73005",
   "metadata": {},
   "outputs": [],
   "source": [
    "import matplotlib.pyplot as plt\n",
    "import pandas as pd\n",
    "import numpy as np\n",
    "import seaborn as sns\n",
    "import requests\n",
    "import json\n"
   ]
  },
  {
   "cell_type": "code",
   "execution_count": 2,
   "id": "f853125a",
   "metadata": {},
   "outputs": [
    {
     "data": {
      "text/html": [
       "<div>\n",
       "<style scoped>\n",
       "    .dataframe tbody tr th:only-of-type {\n",
       "        vertical-align: middle;\n",
       "    }\n",
       "\n",
       "    .dataframe tbody tr th {\n",
       "        vertical-align: top;\n",
       "    }\n",
       "\n",
       "    .dataframe thead th {\n",
       "        text-align: right;\n",
       "    }\n",
       "</style>\n",
       "<table border=\"1\" class=\"dataframe\">\n",
       "  <thead>\n",
       "    <tr style=\"text-align: right;\">\n",
       "      <th></th>\n",
       "      <th>acc_id</th>\n",
       "      <th>acc_date</th>\n",
       "      <th>acc_state</th>\n",
       "      <th>acc_city</th>\n",
       "      <th>fix_port</th>\n",
       "      <th>source</th>\n",
       "      <th>bus_type</th>\n",
       "      <th>industry_sector</th>\n",
       "      <th>device_category</th>\n",
       "      <th>device_type</th>\n",
       "      <th>...</th>\n",
       "      <th>acc_desc</th>\n",
       "      <th>injury_desc</th>\n",
       "      <th>report</th>\n",
       "      <th>category</th>\n",
       "      <th>mechanical</th>\n",
       "      <th>op_error</th>\n",
       "      <th>employee</th>\n",
       "      <th>notes</th>\n",
       "      <th>year</th>\n",
       "      <th>Address</th>\n",
       "    </tr>\n",
       "  </thead>\n",
       "  <tbody>\n",
       "    <tr>\n",
       "      <th>0</th>\n",
       "      <td>918339.0</td>\n",
       "      <td>6/12/2006</td>\n",
       "      <td>CA</td>\n",
       "      <td>Chula Vista</td>\n",
       "      <td>F</td>\n",
       "      <td>California Division of Occupational Safety and...</td>\n",
       "      <td>Water park</td>\n",
       "      <td>water park</td>\n",
       "      <td>water slide</td>\n",
       "      <td>Family raft slide</td>\n",
       "      <td>...</td>\n",
       "      <td>Child got off raft and complained of back pain...</td>\n",
       "      <td>back pain</td>\n",
       "      <td>0</td>\n",
       "      <td>Body pain (normal motion)</td>\n",
       "      <td>False</td>\n",
       "      <td>False</td>\n",
       "      <td>False</td>\n",
       "      <td>0</td>\n",
       "      <td>2006.0</td>\n",
       "      <td>Chula Vista, CA</td>\n",
       "    </tr>\n",
       "    <tr>\n",
       "      <th>1</th>\n",
       "      <td>897377.0</td>\n",
       "      <td>8/26/2001</td>\n",
       "      <td>FL</td>\n",
       "      <td>Orlando</td>\n",
       "      <td>F</td>\n",
       "      <td>Florida Dept. of Agriculture</td>\n",
       "      <td>Sports or recreation facility</td>\n",
       "      <td>recreation</td>\n",
       "      <td>challenge activity</td>\n",
       "      <td>Water ski tow</td>\n",
       "      <td>...</td>\n",
       "      <td>Fell, struck by another skier.</td>\n",
       "      <td>Cut on back of head</td>\n",
       "      <td>0</td>\n",
       "      <td>Collision: patrons collided (participatory)</td>\n",
       "      <td>False</td>\n",
       "      <td>False</td>\n",
       "      <td>False</td>\n",
       "      <td>0</td>\n",
       "      <td>2001.0</td>\n",
       "      <td>Orlando, FL</td>\n",
       "    </tr>\n",
       "    <tr>\n",
       "      <th>2</th>\n",
       "      <td>897380.0</td>\n",
       "      <td>8/22/2001</td>\n",
       "      <td>FL</td>\n",
       "      <td>Cape Coral</td>\n",
       "      <td>F</td>\n",
       "      <td>Florida Dept. of Agriculture</td>\n",
       "      <td>Family entertainment center</td>\n",
       "      <td>recreation</td>\n",
       "      <td>go-kart</td>\n",
       "      <td>Go-kart</td>\n",
       "      <td>...</td>\n",
       "      <td>Hit pit wall coming in</td>\n",
       "      <td>KO tooth, cut mouth</td>\n",
       "      <td>0</td>\n",
       "      <td>Collision: go-kart or bumper car hit stationar...</td>\n",
       "      <td>False</td>\n",
       "      <td>False</td>\n",
       "      <td>False</td>\n",
       "      <td>0</td>\n",
       "      <td>2001.0</td>\n",
       "      <td>Cape Coral, FL</td>\n",
       "    </tr>\n",
       "    <tr>\n",
       "      <th>3</th>\n",
       "      <td>897400.0</td>\n",
       "      <td>7/10/2001</td>\n",
       "      <td>FL</td>\n",
       "      <td>Daytona</td>\n",
       "      <td>F</td>\n",
       "      <td>Florida Dept. of Agriculture</td>\n",
       "      <td>Water park</td>\n",
       "      <td>recreation</td>\n",
       "      <td>go-kart</td>\n",
       "      <td>Go-kart</td>\n",
       "      <td>...</td>\n",
       "      <td>11 &amp; 18 yo hit center isle head on</td>\n",
       "      <td>spinal/back</td>\n",
       "      <td>0</td>\n",
       "      <td>Collision: go-kart or bumper car hit stationar...</td>\n",
       "      <td>False</td>\n",
       "      <td>False</td>\n",
       "      <td>False</td>\n",
       "      <td>0</td>\n",
       "      <td>2001.0</td>\n",
       "      <td>Daytona, FL</td>\n",
       "    </tr>\n",
       "    <tr>\n",
       "      <th>4</th>\n",
       "      <td>897419.0</td>\n",
       "      <td>5/20/2001</td>\n",
       "      <td>FL</td>\n",
       "      <td>Jacksonville</td>\n",
       "      <td>F</td>\n",
       "      <td>Florida Dept. of Agriculture</td>\n",
       "      <td>Family entertainment center</td>\n",
       "      <td>recreation</td>\n",
       "      <td>go-kart</td>\n",
       "      <td>Go-kart</td>\n",
       "      <td>...</td>\n",
       "      <td>Claims bumped/ husband requested EMS/Amb.</td>\n",
       "      <td>neck/headache</td>\n",
       "      <td>0</td>\n",
       "      <td>Collision: patron-controlled vehicles</td>\n",
       "      <td>False</td>\n",
       "      <td>False</td>\n",
       "      <td>False</td>\n",
       "      <td>0</td>\n",
       "      <td>2001.0</td>\n",
       "      <td>Jacksonville, FL</td>\n",
       "    </tr>\n",
       "  </tbody>\n",
       "</table>\n",
       "<p>5 rows × 25 columns</p>\n",
       "</div>"
      ],
      "text/plain": [
       "     acc_id   acc_date acc_state      acc_city fix_port  \\\n",
       "0  918339.0  6/12/2006        CA   Chula Vista        F   \n",
       "1  897377.0  8/26/2001        FL       Orlando        F   \n",
       "2  897380.0  8/22/2001        FL    Cape Coral        F   \n",
       "3  897400.0  7/10/2001        FL       Daytona        F   \n",
       "4  897419.0  5/20/2001        FL  Jacksonville        F   \n",
       "\n",
       "                                              source  \\\n",
       "0  California Division of Occupational Safety and...   \n",
       "1                       Florida Dept. of Agriculture   \n",
       "2                       Florida Dept. of Agriculture   \n",
       "3                       Florida Dept. of Agriculture   \n",
       "4                       Florida Dept. of Agriculture   \n",
       "\n",
       "                        bus_type industry_sector     device_category  \\\n",
       "0                     Water park      water park         water slide   \n",
       "1  Sports or recreation facility      recreation  challenge activity   \n",
       "2    Family entertainment center      recreation             go-kart   \n",
       "3                     Water park      recreation             go-kart   \n",
       "4    Family entertainment center      recreation             go-kart   \n",
       "\n",
       "         device_type  ...                                           acc_desc  \\\n",
       "0  Family raft slide  ...  Child got off raft and complained of back pain...   \n",
       "1      Water ski tow  ...                     Fell, struck by another skier.   \n",
       "2            Go-kart  ...                             Hit pit wall coming in   \n",
       "3            Go-kart  ...                 11 & 18 yo hit center isle head on   \n",
       "4            Go-kart  ...          Claims bumped/ husband requested EMS/Amb.   \n",
       "\n",
       "           injury_desc  report  \\\n",
       "0            back pain       0   \n",
       "1  Cut on back of head       0   \n",
       "2  KO tooth, cut mouth       0   \n",
       "3          spinal/back       0   \n",
       "4        neck/headache       0   \n",
       "\n",
       "                                            category mechanical op_error  \\\n",
       "0                          Body pain (normal motion)      False    False   \n",
       "1        Collision: patrons collided (participatory)      False    False   \n",
       "2  Collision: go-kart or bumper car hit stationar...      False    False   \n",
       "3  Collision: go-kart or bumper car hit stationar...      False    False   \n",
       "4              Collision: patron-controlled vehicles      False    False   \n",
       "\n",
       "  employee notes    year           Address  \n",
       "0    False     0  2006.0   Chula Vista, CA  \n",
       "1    False     0  2001.0       Orlando, FL  \n",
       "2    False     0  2001.0    Cape Coral, FL  \n",
       "3    False     0  2001.0       Daytona, FL  \n",
       "4    False     0  2001.0  Jacksonville, FL  \n",
       "\n",
       "[5 rows x 25 columns]"
      ]
     },
     "execution_count": 2,
     "metadata": {},
     "output_type": "execute_result"
    }
   ],
   "source": [
    "data = pd.read_csv('sample_df2.csv', encoding='cp1252')\n",
    "data.head()"
   ]
  },
  {
   "cell_type": "code",
   "execution_count": 3,
   "id": "091857d0",
   "metadata": {
    "scrolled": true
   },
   "outputs": [
    {
     "name": "stdout",
     "output_type": "stream",
     "text": [
      "<class 'pandas.core.frame.DataFrame'>\n",
      "RangeIndex: 606 entries, 0 to 605\n",
      "Data columns (total 25 columns):\n",
      " #   Column                Non-Null Count  Dtype  \n",
      "---  ------                --------------  -----  \n",
      " 0   acc_id                586 non-null    float64\n",
      " 1   acc_date              586 non-null    object \n",
      " 2   acc_state             586 non-null    object \n",
      " 3   acc_city              586 non-null    object \n",
      " 4   fix_port              586 non-null    object \n",
      " 5   source                586 non-null    object \n",
      " 6   bus_type              586 non-null    object \n",
      " 7   industry_sector       586 non-null    object \n",
      " 8   device_category       586 non-null    object \n",
      " 9   device_type           586 non-null    object \n",
      " 10  tradename_or_generic  586 non-null    object \n",
      " 11  manufacturer          586 non-null    object \n",
      " 12  num_injured           586 non-null    float64\n",
      " 13  age_youngest          586 non-null    float64\n",
      " 14  gender                586 non-null    object \n",
      " 15  acc_desc              586 non-null    object \n",
      " 16  injury_desc           586 non-null    object \n",
      " 17  report                586 non-null    object \n",
      " 18  category              586 non-null    object \n",
      " 19  mechanical            586 non-null    object \n",
      " 20  op_error              586 non-null    object \n",
      " 21  employee              586 non-null    object \n",
      " 22  notes                 586 non-null    object \n",
      " 23  year                  586 non-null    float64\n",
      " 24  Address               586 non-null    object \n",
      "dtypes: float64(4), object(21)\n",
      "memory usage: 118.5+ KB\n"
     ]
    }
   ],
   "source": [
    "data.info()"
   ]
  },
  {
   "cell_type": "code",
   "execution_count": 24,
   "id": "75f51ed3",
   "metadata": {
    "scrolled": true
   },
   "outputs": [
    {
     "data": {
      "text/plain": [
       "<AxesSubplot:xlabel='count', ylabel='device_category'>"
      ]
     },
     "execution_count": 24,
     "metadata": {},
     "output_type": "execute_result"
    },
    {
     "data": {
      "image/png": "[encoded data removed]",
      "text/plain": [
       "<Figure size 432x288 with 1 Axes>"
      ]
     },
     "metadata": {
      "needs_background": "light"
     },
     "output_type": "display_data"
    }
   ],
   "source": [
    "sns.countplot(data=data, y=\"device_category\", hue=\"year\")"
   ]
  },
  {
   "cell_type": "code",
   "execution_count": 25,
   "id": "d9cfe732",
   "metadata": {},
   "outputs": [
    {
     "data": {
      "text/plain": [
       "<AxesSubplot:xlabel='count', ylabel='device_category'>"
      ]
     },
     "execution_count": 25,
     "metadata": {},
     "output_type": "execute_result"
    },
    {
     "data": {
      "image/png": "[encoded data removed]",
      "text/plain": [
       "<Figure size 432x288 with 1 Axes>"
      ]
     },
     "metadata": {
      "needs_background": "light"
     },
     "output_type": "display_data"
    }
   ],
   "source": [
    "sns.countplot(data=data, y=\"device_category\")"
   ]
  },
  {
   "cell_type": "code",
   "execution_count": null,
   "id": "4d6cd1fa",
   "metadata": {},
   "outputs": [],
   "source": []
  }
 ],
 "metadata": {
  "kernelspec": {
   "display_name": "Python 3 (ipykernel)",
   "language": "python",
   "name": "python3"
  },
  "language_info": {
   "codemirror_mode": {
    "name": "ipython",
    "version": 3
   },
   "file_extension": ".py",
   "mimetype": "text/x-python",
   "name": "python",
   "nbconvert_exporter": "python",
   "pygments_lexer": "ipython3",
   "version": "3.9.12"
  }
 },
 "nbformat": 4,
 "nbformat_minor": 5
}
